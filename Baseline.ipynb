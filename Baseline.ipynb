{
 "cells": [
  {
   "cell_type": "markdown",
   "id": "97632eb2",
   "metadata": {},
   "source": [
    "# Deep learning baseline project"
   ]
  },
  {
   "cell_type": "markdown",
   "id": "84c6a75c",
   "metadata": {},
   "source": [
    "## Data setup"
   ]
  },
  {
   "cell_type": "code",
   "execution_count": 211,
   "id": "c181da0a",
   "metadata": {},
   "outputs": [],
   "source": [
    "from torchvision.datasets import MNIST\n",
    "import torch.nn as nn\n",
    "import torch.optim as optim\n",
    "import torch\n",
    "from typing import Tuple\n",
    "from sklearn.metrics import accuracy_score\n",
    "import numpy as np\n",
    "import matplotlib.pyplot as plt\n",
    "%matplotlib inline"
   ]
  },
  {
   "cell_type": "code",
   "execution_count": 7,
   "id": "a701c774",
   "metadata": {},
   "outputs": [
    {
     "name": "stdout",
     "output_type": "stream",
     "text": [
      "Downloading http://yann.lecun.com/exdb/mnist/train-images-idx3-ubyte.gz\n",
      "Downloading http://yann.lecun.com/exdb/mnist/train-images-idx3-ubyte.gz to ./temp/MNIST/raw/train-images-idx3-ubyte.gz\n"
     ]
    },
    {
     "data": {
      "application/vnd.jupyter.widget-view+json": {
       "model_id": "fe8e0214e9984eff85d518127e287ea3",
       "version_major": 2,
       "version_minor": 0
      },
      "text/plain": [
       "  0%|          | 0/9912422 [00:00<?, ?it/s]"
      ]
     },
     "metadata": {},
     "output_type": "display_data"
    },
    {
     "name": "stdout",
     "output_type": "stream",
     "text": [
      "Extracting ./temp/MNIST/raw/train-images-idx3-ubyte.gz to ./temp/MNIST/raw\n",
      "\n",
      "Downloading http://yann.lecun.com/exdb/mnist/train-labels-idx1-ubyte.gz\n",
      "Downloading http://yann.lecun.com/exdb/mnist/train-labels-idx1-ubyte.gz to ./temp/MNIST/raw/train-labels-idx1-ubyte.gz\n"
     ]
    },
    {
     "data": {
      "application/vnd.jupyter.widget-view+json": {
       "model_id": "d5a0111a4d084a4193e9402440e91e85",
       "version_major": 2,
       "version_minor": 0
      },
      "text/plain": [
       "  0%|          | 0/28881 [00:00<?, ?it/s]"
      ]
     },
     "metadata": {},
     "output_type": "display_data"
    },
    {
     "name": "stdout",
     "output_type": "stream",
     "text": [
      "Extracting ./temp/MNIST/raw/train-labels-idx1-ubyte.gz to ./temp/MNIST/raw\n",
      "\n",
      "Downloading http://yann.lecun.com/exdb/mnist/t10k-images-idx3-ubyte.gz\n",
      "Downloading http://yann.lecun.com/exdb/mnist/t10k-images-idx3-ubyte.gz to ./temp/MNIST/raw/t10k-images-idx3-ubyte.gz\n"
     ]
    },
    {
     "data": {
      "application/vnd.jupyter.widget-view+json": {
       "model_id": "bcab566007e2405cbeb8566b579e3aad",
       "version_major": 2,
       "version_minor": 0
      },
      "text/plain": [
       "  0%|          | 0/1648877 [00:00<?, ?it/s]"
      ]
     },
     "metadata": {},
     "output_type": "display_data"
    },
    {
     "name": "stdout",
     "output_type": "stream",
     "text": [
      "Extracting ./temp/MNIST/raw/t10k-images-idx3-ubyte.gz to ./temp/MNIST/raw\n",
      "\n",
      "Downloading http://yann.lecun.com/exdb/mnist/t10k-labels-idx1-ubyte.gz\n",
      "Downloading http://yann.lecun.com/exdb/mnist/t10k-labels-idx1-ubyte.gz to ./temp/MNIST/raw/t10k-labels-idx1-ubyte.gz\n"
     ]
    },
    {
     "data": {
      "application/vnd.jupyter.widget-view+json": {
       "model_id": "2a7c202143eb457a8177c1b14309fa2c",
       "version_major": 2,
       "version_minor": 0
      },
      "text/plain": [
       "  0%|          | 0/4542 [00:00<?, ?it/s]"
      ]
     },
     "metadata": {},
     "output_type": "display_data"
    },
    {
     "name": "stdout",
     "output_type": "stream",
     "text": [
      "Extracting ./temp/MNIST/raw/t10k-labels-idx1-ubyte.gz to ./temp/MNIST/raw\n",
      "\n"
     ]
    }
   ],
   "source": [
    "# The data is a size 28x28\n",
    "mnist_trainset = MNIST(\"./temp/\", train=True, download=True)\n",
    "mnist_testset = MNIST(\"./temp/\", train=False, download=True)"
   ]
  },
  {
   "cell_type": "code",
   "execution_count": 97,
   "id": "bcdd5e96",
   "metadata": {},
   "outputs": [],
   "source": [
    "# Split data into training, validation and testing sets\n",
    "train_valid_split = int(len(mnist_trainset) * 0.8)\n",
    "x_train = mnist_trainset.data[:train_valid_split].float()\n",
    "y_train = mnist_trainset.targets[:train_valid_split]\n",
    "\n",
    "x_valid = mnist_trainset.data[train_valid_split:].float()\n",
    "y_valid = mnist_trainset.targets[train_valid_split:]\n",
    "\n",
    "x_test = mnist_testset.data.float()\n",
    "y_test = mnist_testset.targets"
   ]
  },
  {
   "cell_type": "markdown",
   "id": "f36fd09e",
   "metadata": {},
   "source": [
    "## Baseline model"
   ]
  },
  {
   "cell_type": "code",
   "execution_count": 200,
   "id": "f1f14f56",
   "metadata": {},
   "outputs": [],
   "source": [
    "class BaselineCNN(nn.Module):\n",
    "    \"\"\" The baseline class is a baseline for other types of neural networks\"\"\"\n",
    "    def __init__(self, num_classes: int, image_size: Tuple[int, int], kernel_size: int, stride:int = 1):\n",
    "        super().__init__()\n",
    "        # Init\n",
    "        self.num_classes = num_classes\n",
    "        self.image_size = image_size\n",
    "        self.kernel_size = kernel_size\n",
    "        self.stride = stride\n",
    "        \n",
    "        # Convolutional layer\n",
    "        self.conv1 = nn.Conv1d(*self.image_size, kernel_size=self.kernel_size, stride=self.stride)\n",
    "        \n",
    "        # fully connected layers\n",
    "        self.fc1 = nn.Linear(self.image_size[0] * (self.image_size[1] - self.kernel_size + self.stride), self.num_classes)\n",
    "        \n",
    "        # Activation function\n",
    "        self.activate = nn.ReLU()\n",
    "        \n",
    "        # Softmax\n",
    "        self.softmax = nn.Softmax(dim=1)\n",
    "        \n",
    "    def forward(self, x: torch.Tensor) -> torch.Tensor:\n",
    "        \"\"\" The forward function is used to predict a result based on the input image\"\"\"\n",
    "        # Conv\n",
    "        x_conv = self.conv1(x)\n",
    "        x_conv = self.activate(x_conv)\n",
    "        # Flattening\n",
    "        x_conv = x_conv.view(len(x), -1)\n",
    "        # Fully connected\n",
    "        x_fc = self.fc1(x_conv)\n",
    "        x_fc = self.softmax(x_fc)\n",
    "        return x_fc"
   ]
  },
  {
   "cell_type": "code",
   "execution_count": 201,
   "id": "8cb68d84",
   "metadata": {},
   "outputs": [
    {
     "name": "stdout",
     "output_type": "stream",
     "text": [
      "BaselineCNN(\n",
      "  (conv1): Conv1d(28, 28, kernel_size=(3,), stride=(1,))\n",
      "  (fc1): Linear(in_features=728, out_features=10, bias=True)\n",
      "  (activate): ReLU()\n",
      "  (softmax): Softmax(dim=1)\n",
      ")\n"
     ]
    }
   ],
   "source": [
    "net = BaselineCNN(\n",
    "    num_classes = len(y_train.unique()),\n",
    "    image_size = tuple(x_train[0].shape),\n",
    "    kernel_size = 3\n",
    ")\n",
    "print(net)"
   ]
  },
  {
   "cell_type": "code",
   "execution_count": 214,
   "id": "94948c9e",
   "metadata": {},
   "outputs": [
    {
     "name": "stdout",
     "output_type": "stream",
     "text": [
      "Epoch  1 : Train Loss 0.000048 , Train acc 0.146604, Valid acc 0.140917\n",
      "Epoch 31 : Train Loss 0.000045 , Train acc 0.310417, Valid acc 0.305500\n",
      "Epoch 61 : Train Loss 0.000043 , Train acc 0.402021, Valid acc 0.398417\n",
      "Epoch 91 : Train Loss 0.000041 , Train acc 0.499771, Valid acc 0.503500\n",
      "Epoch 121 : Train Loss 0.000039 , Train acc 0.591979, Valid acc 0.599750\n",
      "Epoch 151 : Train Loss 0.000038 , Train acc 0.639271, Valid acc 0.643500\n",
      "Epoch 181 : Train Loss 0.000037 , Train acc 0.667729, Valid acc 0.672250\n",
      "Epoch 211 : Train Loss 0.000036 , Train acc 0.711125, Valid acc 0.717333\n",
      "Epoch 241 : Train Loss 0.000036 , Train acc 0.756417, Valid acc 0.761250\n",
      "Epoch 271 : Train Loss 0.000035 , Train acc 0.779271, Valid acc 0.783250\n",
      "Epoch 301 : Train Loss 0.000035 , Train acc 0.789854, Valid acc 0.791333\n",
      "Epoch 331 : Train Loss 0.000035 , Train acc 0.797396, Valid acc 0.797833\n",
      "Epoch 361 : Train Loss 0.000035 , Train acc 0.802771, Valid acc 0.802917\n",
      "Epoch 391 : Train Loss 0.000034 , Train acc 0.807292, Valid acc 0.806583\n",
      "Epoch 421 : Train Loss 0.000034 , Train acc 0.811438, Valid acc 0.809917\n",
      "Epoch 451 : Train Loss 0.000034 , Train acc 0.815042, Valid acc 0.812000\n",
      "Epoch 481 : Train Loss 0.000034 , Train acc 0.817312, Valid acc 0.814083\n"
     ]
    },
    {
     "data": {
      "text/plain": [
       "(Text(0.5, 0, 'Updates'), Text(0, 0.5, 'Acc'))"
      ]
     },
     "execution_count": 214,
     "metadata": {},
     "output_type": "execute_result"
    },
    {
     "data": {
      "image/png": "[encoded data removed]",
      "text/plain": [
       "<Figure size 432x288 with 1 Axes>"
      ]
     },
     "metadata": {
      "needs_background": "light"
     },
     "output_type": "display_data"
    }
   ],
   "source": [
    "# Init\n",
    "losses = []\n",
    "valid_acc = []\n",
    "train_acc = []\n",
    "\n",
    "# Init network\n",
    "net = BaselineCNN(\n",
    "    num_classes = len(y_train.unique()),\n",
    "    image_size = tuple(x_train[0].shape),\n",
    "    kernel_size = 3\n",
    ")\n",
    "# Hyperparameters\n",
    "num_epochs = 500\n",
    "optimizer = optim.SGD(net.parameters(), lr=0.001, momentum=0.8)\n",
    "criterion = nn.CrossEntropyLoss()\n",
    "\n",
    "for epoch in range(num_epochs):\n",
    "    # Forward -> Backprob -> Update params\n",
    "    ## Train\n",
    "    net.train()\n",
    "    \n",
    "    # Optimizer\n",
    "    optimizer.zero_grad()\n",
    "    output = net(x_train)\n",
    "\n",
    "    # compute gradients given loss\n",
    "    loss = criterion(output, y_train)\n",
    "    loss.backward()\n",
    "    optimizer.step()\n",
    "\n",
    "    # Save losses\n",
    "    losses.append(loss / len(y_train))    \n",
    "    \n",
    "    ### Evaluate training\n",
    "    net.eval()\n",
    "    output = net(x_train)\n",
    "\n",
    "    y_preds = torch.max(output, 1)[1]\n",
    "    train_acc_cur = accuracy_score(y_train.numpy(), y_preds.numpy())\n",
    "    \n",
    "    ### Evaluate validation\n",
    "    output = net(x_valid)\n",
    "    y_preds = torch.max(output, 1)[1]\n",
    "    valid_acc_cur = accuracy_score(y_valid.numpy(), y_preds.numpy())\n",
    "    \n",
    "    train_acc.append(train_acc_cur)\n",
    "    valid_acc.append(valid_acc_cur)\n",
    "    \n",
    "    if epoch % 30 == 0:\n",
    "        print(\"Epoch %2i : Train Loss %f , Train acc %f, Valid acc %f\" % (\n",
    "                epoch+1, losses[-1], train_acc_cur, valid_acc_cur))\n",
    "\n",
    "epoch = np.arange(len(train_acc))\n",
    "plt.figure()\n",
    "plt.plot(epoch, train_acc, 'r', epoch, valid_acc, 'b')\n",
    "plt.legend(['Train Accucary','Validation Accuracy'])\n",
    "plt.xlabel('Updates')\n",
    "plt.ylabel('Acc')"
   ]
  },
  {
   "cell_type": "code",
   "execution_count": 220,
   "id": "056850a3",
   "metadata": {},
   "outputs": [
    {
     "name": "stdout",
     "output_type": "stream",
     "text": [
      "Training accuracy: 81.86%\n",
      "Validation accuracy: 81.55%\n"
     ]
    }
   ],
   "source": [
    "print(f'Training accuracy: {train_acc[-1]*100:.2f}%\\nValidation accuracy: {valid_acc[-1]*100:.2f}%')"
   ]
  }
 ],
 "metadata": {
  "kernelspec": {
   "display_name": "Python 3 (ipykernel)",
   "language": "python",
   "name": "python3"
  },
  "language_info": {
   "codemirror_mode": {
    "name": "ipython",
    "version": 3
   },
   "file_extension": ".py",
   "mimetype": "text/x-python",
   "name": "python",
   "nbconvert_exporter": "python",
   "pygments_lexer": "ipython3",
   "version": "3.9.6"
  }
 },
 "nbformat": 4,
 "nbformat_minor": 5
}
